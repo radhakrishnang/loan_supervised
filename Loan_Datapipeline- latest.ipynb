{
 "cells": [
  {
   "cell_type": "code",
   "execution_count": 1,
   "metadata": {},
   "outputs": [],
   "source": [
    "#importing libraries\n",
    "import pandas as pd\n",
    "import numpy as np\n",
    "import io\n",
    "import requests"
   ]
  },
  {
   "cell_type": "code",
   "execution_count": 2,
   "metadata": {},
   "outputs": [
    {
     "name": "stdout",
     "output_type": "stream",
     "text": [
      "Getting data from S3 storage\n"
     ]
    }
   ],
   "source": [
    "print(\"Getting data from S3 storage\")"
   ]
  },
  {
   "cell_type": "code",
   "execution_count": 3,
   "metadata": {},
   "outputs": [],
   "source": [
    "#assign the data a name for easy access\n",
    "data=pd.read_csv('loan_data.csv',low_memory=False)"
   ]
  },
  {
   "cell_type": "code",
   "execution_count": 4,
   "metadata": {},
   "outputs": [],
   "source": [
    "#data.head(10000).to_csv(\"loan_data1.csv\",index=False)"
   ]
  },
  {
   "cell_type": "code",
   "execution_count": 5,
   "metadata": {},
   "outputs": [
    {
     "name": "stdout",
     "output_type": "stream",
     "text": [
      "Loan data pre processing\n"
     ]
    }
   ],
   "source": [
    "print(\"Loan data pre processing\")"
   ]
  },
  {
   "cell_type": "code",
   "execution_count": 6,
   "metadata": {},
   "outputs": [],
   "source": [
    "#drop columns containing nans > 40%\n",
    "col = data.columns\n",
    "for c in col:\n",
    "  if data[c].isna().sum()*100/data.shape[0] > 40:\n",
    "    data.drop([c],axis=1,inplace=True)\n",
    "    col = data.columns"
   ]
  },
  {
   "cell_type": "code",
   "execution_count": 7,
   "metadata": {},
   "outputs": [
    {
     "name": "stdout",
     "output_type": "stream",
     "text": [
      "(1048575, 101)\n"
     ]
    }
   ],
   "source": [
    "print(data.shape)"
   ]
  },
  {
   "cell_type": "code",
   "execution_count": 8,
   "metadata": {},
   "outputs": [
    {
     "data": {
      "text/html": [
       "<div>\n",
       "<style scoped>\n",
       "    .dataframe tbody tr th:only-of-type {\n",
       "        vertical-align: middle;\n",
       "    }\n",
       "\n",
       "    .dataframe tbody tr th {\n",
       "        vertical-align: top;\n",
       "    }\n",
       "\n",
       "    .dataframe thead th {\n",
       "        text-align: right;\n",
       "    }\n",
       "</style>\n",
       "<table border=\"1\" class=\"dataframe\">\n",
       "  <thead>\n",
       "    <tr style=\"text-align: right;\">\n",
       "      <th></th>\n",
       "      <th>loan_amnt</th>\n",
       "      <th>funded_amnt</th>\n",
       "      <th>funded_amnt_inv</th>\n",
       "      <th>term</th>\n",
       "      <th>int_rate</th>\n",
       "      <th>installment</th>\n",
       "      <th>grade</th>\n",
       "      <th>sub_grade</th>\n",
       "      <th>emp_title</th>\n",
       "      <th>emp_length</th>\n",
       "      <th>...</th>\n",
       "      <th>percent_bc_gt_75</th>\n",
       "      <th>pub_rec_bankruptcies</th>\n",
       "      <th>tax_liens</th>\n",
       "      <th>tot_hi_cred_lim</th>\n",
       "      <th>total_bal_ex_mort</th>\n",
       "      <th>total_bc_limit</th>\n",
       "      <th>total_il_high_credit_limit</th>\n",
       "      <th>hardship_flag</th>\n",
       "      <th>disbursement_method</th>\n",
       "      <th>debt_settlement_flag</th>\n",
       "    </tr>\n",
       "  </thead>\n",
       "  <tbody>\n",
       "    <tr>\n",
       "      <th>0</th>\n",
       "      <td>2500</td>\n",
       "      <td>2500</td>\n",
       "      <td>2500.0</td>\n",
       "      <td>36 months</td>\n",
       "      <td>13.56</td>\n",
       "      <td>84.92</td>\n",
       "      <td>C</td>\n",
       "      <td>C1</td>\n",
       "      <td>Chef</td>\n",
       "      <td>10+ years</td>\n",
       "      <td>...</td>\n",
       "      <td>0.0</td>\n",
       "      <td>1</td>\n",
       "      <td>0</td>\n",
       "      <td>60124</td>\n",
       "      <td>16901</td>\n",
       "      <td>36500</td>\n",
       "      <td>18124</td>\n",
       "      <td>N</td>\n",
       "      <td>Cash</td>\n",
       "      <td>N</td>\n",
       "    </tr>\n",
       "    <tr>\n",
       "      <th>1</th>\n",
       "      <td>30000</td>\n",
       "      <td>30000</td>\n",
       "      <td>30000.0</td>\n",
       "      <td>60 months</td>\n",
       "      <td>18.94</td>\n",
       "      <td>777.23</td>\n",
       "      <td>D</td>\n",
       "      <td>D2</td>\n",
       "      <td>Postmaster</td>\n",
       "      <td>10+ years</td>\n",
       "      <td>...</td>\n",
       "      <td>0.0</td>\n",
       "      <td>1</td>\n",
       "      <td>0</td>\n",
       "      <td>372872</td>\n",
       "      <td>99468</td>\n",
       "      <td>15000</td>\n",
       "      <td>94072</td>\n",
       "      <td>N</td>\n",
       "      <td>Cash</td>\n",
       "      <td>N</td>\n",
       "    </tr>\n",
       "    <tr>\n",
       "      <th>2</th>\n",
       "      <td>5000</td>\n",
       "      <td>5000</td>\n",
       "      <td>5000.0</td>\n",
       "      <td>36 months</td>\n",
       "      <td>17.97</td>\n",
       "      <td>180.69</td>\n",
       "      <td>D</td>\n",
       "      <td>D1</td>\n",
       "      <td>Administrative</td>\n",
       "      <td>6 years</td>\n",
       "      <td>...</td>\n",
       "      <td>0.0</td>\n",
       "      <td>0</td>\n",
       "      <td>0</td>\n",
       "      <td>136927</td>\n",
       "      <td>11749</td>\n",
       "      <td>13800</td>\n",
       "      <td>10000</td>\n",
       "      <td>N</td>\n",
       "      <td>Cash</td>\n",
       "      <td>N</td>\n",
       "    </tr>\n",
       "    <tr>\n",
       "      <th>3</th>\n",
       "      <td>4000</td>\n",
       "      <td>4000</td>\n",
       "      <td>4000.0</td>\n",
       "      <td>36 months</td>\n",
       "      <td>18.94</td>\n",
       "      <td>146.51</td>\n",
       "      <td>D</td>\n",
       "      <td>D2</td>\n",
       "      <td>IT Supervisor</td>\n",
       "      <td>10+ years</td>\n",
       "      <td>...</td>\n",
       "      <td>100.0</td>\n",
       "      <td>0</td>\n",
       "      <td>0</td>\n",
       "      <td>385183</td>\n",
       "      <td>36151</td>\n",
       "      <td>5000</td>\n",
       "      <td>44984</td>\n",
       "      <td>N</td>\n",
       "      <td>Cash</td>\n",
       "      <td>N</td>\n",
       "    </tr>\n",
       "    <tr>\n",
       "      <th>4</th>\n",
       "      <td>30000</td>\n",
       "      <td>30000</td>\n",
       "      <td>30000.0</td>\n",
       "      <td>60 months</td>\n",
       "      <td>16.14</td>\n",
       "      <td>731.78</td>\n",
       "      <td>C</td>\n",
       "      <td>C4</td>\n",
       "      <td>Mechanic</td>\n",
       "      <td>10+ years</td>\n",
       "      <td>...</td>\n",
       "      <td>0.0</td>\n",
       "      <td>0</td>\n",
       "      <td>0</td>\n",
       "      <td>157548</td>\n",
       "      <td>29674</td>\n",
       "      <td>9300</td>\n",
       "      <td>32332</td>\n",
       "      <td>N</td>\n",
       "      <td>Cash</td>\n",
       "      <td>N</td>\n",
       "    </tr>\n",
       "  </tbody>\n",
       "</table>\n",
       "<p>5 rows × 101 columns</p>\n",
       "</div>"
      ],
      "text/plain": [
       "   loan_amnt  funded_amnt  funded_amnt_inv        term  int_rate  installment  \\\n",
       "0       2500         2500           2500.0   36 months     13.56        84.92   \n",
       "1      30000        30000          30000.0   60 months     18.94       777.23   \n",
       "2       5000         5000           5000.0   36 months     17.97       180.69   \n",
       "3       4000         4000           4000.0   36 months     18.94       146.51   \n",
       "4      30000        30000          30000.0   60 months     16.14       731.78   \n",
       "\n",
       "  grade sub_grade       emp_title emp_length  ... percent_bc_gt_75  \\\n",
       "0     C        C1            Chef  10+ years  ...              0.0   \n",
       "1     D        D2     Postmaster   10+ years  ...              0.0   \n",
       "2     D        D1  Administrative    6 years  ...              0.0   \n",
       "3     D        D2   IT Supervisor  10+ years  ...            100.0   \n",
       "4     C        C4        Mechanic  10+ years  ...              0.0   \n",
       "\n",
       "   pub_rec_bankruptcies tax_liens tot_hi_cred_lim total_bal_ex_mort  \\\n",
       "0                     1         0           60124             16901   \n",
       "1                     1         0          372872             99468   \n",
       "2                     0         0          136927             11749   \n",
       "3                     0         0          385183             36151   \n",
       "4                     0         0          157548             29674   \n",
       "\n",
       "  total_bc_limit total_il_high_credit_limit hardship_flag disbursement_method  \\\n",
       "0          36500                      18124             N                Cash   \n",
       "1          15000                      94072             N                Cash   \n",
       "2          13800                      10000             N                Cash   \n",
       "3           5000                      44984             N                Cash   \n",
       "4           9300                      32332             N                Cash   \n",
       "\n",
       "  debt_settlement_flag  \n",
       "0                    N  \n",
       "1                    N  \n",
       "2                    N  \n",
       "3                    N  \n",
       "4                    N  \n",
       "\n",
       "[5 rows x 101 columns]"
      ]
     },
     "execution_count": 8,
     "metadata": {},
     "output_type": "execute_result"
    }
   ],
   "source": [
    "data.head()"
   ]
  },
  {
   "cell_type": "code",
   "execution_count": 9,
   "metadata": {},
   "outputs": [],
   "source": [
    "# splitting the data into training and test datasets\n",
    "from sklearn.model_selection import train_test_split\n",
    "\n",
    "np.random.seed(10)\n",
    "\n",
    "train, test = train_test_split(data, test_size=0.3)"
   ]
  },
  {
   "cell_type": "code",
   "execution_count": null,
   "metadata": {},
   "outputs": [],
   "source": []
  },
  {
   "cell_type": "code",
   "execution_count": 10,
   "metadata": {},
   "outputs": [],
   "source": [
    "# Drop rows containing Nan's\n",
    "train = train.dropna()\n",
    "test = test.dropna()"
   ]
  },
  {
   "cell_type": "code",
   "execution_count": 11,
   "metadata": {},
   "outputs": [],
   "source": [
    "un_train=train\n",
    "un_test=test"
   ]
  },
  {
   "cell_type": "code",
   "execution_count": 12,
   "metadata": {},
   "outputs": [],
   "source": [
    "# Separating out categorical and numerical\n",
    "categorical_df = train.select_dtypes(exclude = np.number)\n",
    "numerical_df = train.select_dtypes(include = np.number)\n",
    "\n",
    "tst_categorical_df = test.select_dtypes(exclude = np.number)\n",
    "tst_numerical_df = test.select_dtypes(include = np.number)"
   ]
  },
  {
   "cell_type": "code",
   "execution_count": 13,
   "metadata": {},
   "outputs": [],
   "source": [
    "# Figuring out which columns has less than or equal to 20 unique values, so that we can perform onehot encoding on those columns.\n",
    "onehot_df = pd.DataFrame()\n",
    "for c in categorical_df.columns:\n",
    "  if len(categorical_df[c].unique()) <= 20:\n",
    "    onehot_df[c] = categorical_df[c]    \n",
    "\n",
    "tst_onehot_df = pd.DataFrame()\n",
    "for c in tst_categorical_df.columns:\n",
    "  if len(test[c].unique()) <= 20:\n",
    "    tst_onehot_df[c] = tst_categorical_df[c]"
   ]
  },
  {
   "cell_type": "code",
   "execution_count": 14,
   "metadata": {},
   "outputs": [],
   "source": [
    "# Storing the other columns which have more unique values in another dataframe.\n",
    "other_var = categorical_df\n",
    "\n",
    "for c in onehot_df:\n",
    "  other_var = other_var.drop([c], axis=1)\n",
    "\n",
    "\n",
    "other_var_tst = tst_categorical_df\n",
    "\n",
    "for c in tst_onehot_df:\n",
    "  other_var_tst = other_var_tst.drop([c], axis=1)  \n",
    "\n",
    "# For the variables in other_var, let us group them first, and then apply onehot encoding.  "
   ]
  },
  {
   "cell_type": "code",
   "execution_count": 15,
   "metadata": {},
   "outputs": [],
   "source": [
    "# Defining a function to get the range of columns, so that it becomes easy for grouping.\n",
    "def minmax(x):\n",
    "    min_val = min(x)\n",
    "    max_val = max(x)\n",
    "\n",
    "    return (min_val, max_val)"
   ]
  },
  {
   "cell_type": "code",
   "execution_count": 16,
   "metadata": {},
   "outputs": [],
   "source": [
    "# Converting the date columns to datetime so that we can make some time duration out of it.\n",
    "\n",
    "date_col = ['issue_d','last_pymnt_d','earliest_cr_line','last_credit_pull_d']\n",
    "\n",
    "for c in date_col:\n",
    "   other_var[c] = pd.to_datetime(pd.Series(other_var[c]), format='%b-%y')\n",
    "\n",
    "for c in date_col:\n",
    "   other_var_tst[c] = pd.to_datetime(pd.Series(other_var_tst[c]), format='%b-%y') "
   ]
  },
  {
   "cell_type": "code",
   "execution_count": 17,
   "metadata": {},
   "outputs": [],
   "source": [
    "# Finding difference between the dates and dropping main columns\n",
    "\n",
    "other_var['diff_issue_lastpymnt'] = other_var['last_pymnt_d'] - other_var['issue_d'] \n",
    "other_var['diff_earliestcrline_lastcrdtpull'] = other_var['last_credit_pull_d'] - other_var['earliest_cr_line']\n",
    "\n",
    "for c in date_col:\n",
    "  other_var = other_var.drop([c], axis = 1)\n",
    "\n",
    "other_var_tst['diff_issue_lastpymnt'] = other_var_tst['last_pymnt_d'] - other_var_tst['issue_d'] \n",
    "other_var_tst['diff_earliestcrline_lastcrdtpull'] = other_var_tst['last_credit_pull_d'] - other_var_tst['earliest_cr_line']\n",
    "\n",
    "for c in date_col:\n",
    "  other_var_tst = other_var_tst.drop([c], axis = 1)  "
   ]
  },
  {
   "cell_type": "code",
   "execution_count": 18,
   "metadata": {},
   "outputs": [],
   "source": [
    "# Converting time duration to numeric\n",
    "other_var['diff_issue_lastpymnt'] = other_var.diff_issue_lastpymnt.apply(lambda x: x.days)\n",
    "other_var['diff_earliestcrline_lastcrdtpull'] = other_var.diff_earliestcrline_lastcrdtpull.apply(lambda x: x.days)\n",
    "\n",
    "other_var_tst['diff_issue_lastpymnt'] = other_var_tst.diff_issue_lastpymnt.apply(lambda x: x.days)\n",
    "other_var_tst['diff_earliestcrline_lastcrdtpull'] = other_var_tst.diff_earliestcrline_lastcrdtpull.apply(lambda x: x.days)"
   ]
  },
  {
   "cell_type": "code",
   "execution_count": 19,
   "metadata": {},
   "outputs": [],
   "source": [
    "# Dropping the zipcode column as it cannot give any info about the place as there are around 41000 zipcodes in the us and only around 900 zipcodes in the dataset.\n",
    "other_var = other_var.drop(['zip_code'],axis=1)\n",
    "\n",
    "other_var_tst = other_var_tst.drop(['zip_code'],axis=1)"
   ]
  },
  {
   "cell_type": "code",
   "execution_count": 20,
   "metadata": {},
   "outputs": [
    {
     "data": {
      "text/html": [
       "<div>\n",
       "<style scoped>\n",
       "    .dataframe tbody tr th:only-of-type {\n",
       "        vertical-align: middle;\n",
       "    }\n",
       "\n",
       "    .dataframe tbody tr th {\n",
       "        vertical-align: top;\n",
       "    }\n",
       "\n",
       "    .dataframe thead th {\n",
       "        text-align: right;\n",
       "    }\n",
       "</style>\n",
       "<table border=\"1\" class=\"dataframe\">\n",
       "  <thead>\n",
       "    <tr style=\"text-align: right;\">\n",
       "      <th></th>\n",
       "      <th>sub_grade</th>\n",
       "      <th>emp_title</th>\n",
       "      <th>addr_state</th>\n",
       "      <th>diff_issue_lastpymnt</th>\n",
       "      <th>diff_earliestcrline_lastcrdtpull</th>\n",
       "    </tr>\n",
       "  </thead>\n",
       "  <tbody>\n",
       "    <tr>\n",
       "      <th>410465</th>\n",
       "      <td>B4</td>\n",
       "      <td>Technical Advisor</td>\n",
       "      <td>TX</td>\n",
       "      <td>337</td>\n",
       "      <td>5816</td>\n",
       "    </tr>\n",
       "    <tr>\n",
       "      <th>723222</th>\n",
       "      <td>G2</td>\n",
       "      <td>Operations Supervisor</td>\n",
       "      <td>OR</td>\n",
       "      <td>1067</td>\n",
       "      <td>5785</td>\n",
       "    </tr>\n",
       "    <tr>\n",
       "      <th>755693</th>\n",
       "      <td>C1</td>\n",
       "      <td>Director of Engineering</td>\n",
       "      <td>TX</td>\n",
       "      <td>304</td>\n",
       "      <td>12510</td>\n",
       "    </tr>\n",
       "    <tr>\n",
       "      <th>854924</th>\n",
       "      <td>C1</td>\n",
       "      <td>Closing coordinator</td>\n",
       "      <td>CA</td>\n",
       "      <td>151</td>\n",
       "      <td>6026</td>\n",
       "    </tr>\n",
       "    <tr>\n",
       "      <th>9551</th>\n",
       "      <td>A1</td>\n",
       "      <td>Custodial Supervisor</td>\n",
       "      <td>CO</td>\n",
       "      <td>62</td>\n",
       "      <td>4445</td>\n",
       "    </tr>\n",
       "    <tr>\n",
       "      <th>...</th>\n",
       "      <td>...</td>\n",
       "      <td>...</td>\n",
       "      <td>...</td>\n",
       "      <td>...</td>\n",
       "      <td>...</td>\n",
       "    </tr>\n",
       "    <tr>\n",
       "      <th>533660</th>\n",
       "      <td>D5</td>\n",
       "      <td>Payment services rep</td>\n",
       "      <td>SC</td>\n",
       "      <td>304</td>\n",
       "      <td>3378</td>\n",
       "    </tr>\n",
       "    <tr>\n",
       "      <th>105595</th>\n",
       "      <td>B2</td>\n",
       "      <td>Electronic Warfare Systems Techician II</td>\n",
       "      <td>NV</td>\n",
       "      <td>123</td>\n",
       "      <td>3014</td>\n",
       "    </tr>\n",
       "    <tr>\n",
       "      <th>617841</th>\n",
       "      <td>A5</td>\n",
       "      <td>Correctional Sergeant</td>\n",
       "      <td>CA</td>\n",
       "      <td>426</td>\n",
       "      <td>5571</td>\n",
       "    </tr>\n",
       "    <tr>\n",
       "      <th>443712</th>\n",
       "      <td>A3</td>\n",
       "      <td>nurse</td>\n",
       "      <td>NY</td>\n",
       "      <td>365</td>\n",
       "      <td>5205</td>\n",
       "    </tr>\n",
       "    <tr>\n",
       "      <th>760957</th>\n",
       "      <td>C3</td>\n",
       "      <td>Flight Attendant</td>\n",
       "      <td>TX</td>\n",
       "      <td>881</td>\n",
       "      <td>11599</td>\n",
       "    </tr>\n",
       "  </tbody>\n",
       "</table>\n",
       "<p>434656 rows × 5 columns</p>\n",
       "</div>"
      ],
      "text/plain": [
       "       sub_grade                                emp_title addr_state  \\\n",
       "410465        B4                        Technical Advisor         TX   \n",
       "723222        G2                    Operations Supervisor         OR   \n",
       "755693        C1                  Director of Engineering         TX   \n",
       "854924        C1                      Closing coordinator         CA   \n",
       "9551          A1                     Custodial Supervisor         CO   \n",
       "...          ...                                      ...        ...   \n",
       "533660        D5                     Payment services rep         SC   \n",
       "105595        B2  Electronic Warfare Systems Techician II         NV   \n",
       "617841        A5                    Correctional Sergeant         CA   \n",
       "443712        A3                                    nurse         NY   \n",
       "760957        C3                         Flight Attendant         TX   \n",
       "\n",
       "        diff_issue_lastpymnt  diff_earliestcrline_lastcrdtpull  \n",
       "410465                   337                              5816  \n",
       "723222                  1067                              5785  \n",
       "755693                   304                             12510  \n",
       "854924                   151                              6026  \n",
       "9551                      62                              4445  \n",
       "...                      ...                               ...  \n",
       "533660                   304                              3378  \n",
       "105595                   123                              3014  \n",
       "617841                   426                              5571  \n",
       "443712                   365                              5205  \n",
       "760957                   881                             11599  \n",
       "\n",
       "[434656 rows x 5 columns]"
      ]
     },
     "execution_count": 20,
     "metadata": {},
     "output_type": "execute_result"
    }
   ],
   "source": [
    "other_var"
   ]
  },
  {
   "cell_type": "code",
   "execution_count": 21,
   "metadata": {},
   "outputs": [],
   "source": [
    "# Assigning good loan as '0' and bad loan as '1'\n",
    "onehot_df['loan_status'] = onehot_df['loan_status'].replace({\"Current\": \"0\", \"Fully Paid\": \"0\", \"Charged Off\": \"1\", \"Late (31-120 days)\":\"1\", \"In Grace Period\":\"1\", \"Late (16-30 days)\":\"1\", \"Default\":\"1\"})\n",
    "\n",
    "tst_onehot_df['loan_status'] = tst_onehot_df['loan_status'].replace({\"Current\": \"0\", \"Fully Paid\": \"0\", \"Charged Off\": \"1\", \"Late (31-120 days)\":\"1\", \"In Grace Period\":\"1\", \"Late (16-30 days)\":\"1\", \"Default\":\"1\"})"
   ]
  },
  {
   "cell_type": "code",
   "execution_count": 22,
   "metadata": {},
   "outputs": [],
   "source": [
    "un_onehot_df=onehot_df\n",
    "un_tst_onehot_df=tst_onehot_df"
   ]
  },
  {
   "cell_type": "code",
   "execution_count": 23,
   "metadata": {},
   "outputs": [],
   "source": [
    "target = train['loan_status']\n",
    "tst_target = test['loan_status']\n",
    "\n",
    "un_onehot_df = un_onehot_df.drop(['loan_status'], axis = 1)\n",
    "un_tst_onehot_df = un_tst_onehot_df.drop(['loan_status'], axis = 1)"
   ]
  },
  {
   "cell_type": "code",
   "execution_count": null,
   "metadata": {},
   "outputs": [],
   "source": []
  },
  {
   "cell_type": "code",
   "execution_count": null,
   "metadata": {},
   "outputs": [],
   "source": []
  },
  {
   "cell_type": "code",
   "execution_count": 24,
   "metadata": {},
   "outputs": [
    {
     "data": {
      "text/plain": [
       "Text(0.5, 0, 'STATE')"
      ]
     },
     "execution_count": 24,
     "metadata": {},
     "output_type": "execute_result"
    },
    {
     "data": {
      "image/png": "[encoded data removed]",
      "text/plain": [
       "<Figure size 1440x720 with 1 Axes>"
      ]
     },
     "metadata": {
      "needs_background": "light"
     },
     "output_type": "display_data"
    }
   ],
   "source": [
    "# Check the relation state name has with loan status, so that we get an idea whether to drop or keep that column.\n",
    "import matplotlib.pyplot as plt\n",
    "plt.rcParams[\"figure.figsize\"] = (20,10)\n",
    "pd.crosstab(other_var.addr_state,onehot_df.loan_status).plot(kind='bar')\n",
    "plt.title('Relation b/w state and loan status')\n",
    "plt.xlabel('STATE')"
   ]
  },
  {
   "cell_type": "code",
   "execution_count": 25,
   "metadata": {},
   "outputs": [
    {
     "name": "stdout",
     "output_type": "stream",
     "text": [
      "(5.170821791320407, 12.465314834578441)\n"
     ]
    }
   ],
   "source": [
    "# Let us find the bad loan percentage mathematically.\n",
    "l = pd.crosstab(other_var.addr_state,onehot_df.loan_status)\n",
    "perc = list()\n",
    "perc = 100*l['1']/(l['0']+l['1'])\n",
    "print(minmax(perc))"
   ]
  },
  {
   "cell_type": "markdown",
   "metadata": {},
   "source": [
    "From the above figure and percentages we can observe that, state doesn't have an impact on the loan status as the ratio to good and bad loan is almost the same, so we'll go ahead and drop the column."
   ]
  },
  {
   "cell_type": "code",
   "execution_count": 26,
   "metadata": {},
   "outputs": [],
   "source": [
    "# Dropping addr_state column\n",
    "other_var = other_var.drop(['addr_state'],axis=1)\n",
    "\n",
    "other_var_tst = other_var_tst.drop(['addr_state'],axis=1)"
   ]
  },
  {
   "cell_type": "code",
   "execution_count": 27,
   "metadata": {},
   "outputs": [
    {
     "data": {
      "text/plain": [
       "Text(0.5, 0, 'Sub grade')"
      ]
     },
     "execution_count": 27,
     "metadata": {},
     "output_type": "execute_result"
    },
    {
     "data": {
      "image/png": "[encoded data removed]",
      "text/plain": [
       "<Figure size 1440x720 with 1 Axes>"
      ]
     },
     "metadata": {
      "needs_background": "light"
     },
     "output_type": "display_data"
    }
   ],
   "source": [
    "# Check the relation sub_grade has with loan status, so that we get an idea whether to drop or keep that column.\n",
    "import matplotlib.pyplot as plt\n",
    "pd.crosstab(other_var.sub_grade,onehot_df.loan_status).plot(kind='bar')\n",
    "plt.title('Relation b/w sub_grade and loan status')\n",
    "plt.xlabel('Sub grade')"
   ]
  },
  {
   "cell_type": "code",
   "execution_count": 28,
   "metadata": {},
   "outputs": [
    {
     "name": "stdout",
     "output_type": "stream",
     "text": [
      "(1.402735333901107, 52.83018867924528)\n"
     ]
    }
   ],
   "source": [
    "# Let us find the bad loan percentage mathematically.\n",
    "m = pd.crosstab(other_var.sub_grade,onehot_df.loan_status)\n",
    "percent = list()\n",
    "percent = 100*m['1']/(m['0']+m['1'])\n",
    "print(minmax(percent))"
   ]
  },
  {
   "cell_type": "code",
   "execution_count": 29,
   "metadata": {},
   "outputs": [],
   "source": [
    "# Lets create a function to reduce columns in the above method.\n",
    "def crosstabs(column,target):\n",
    " m = pd.crosstab(column,target)\n",
    " percent = 100*m['1']/(m['0']+m['1'])\n",
    " print(minmax(percent))"
   ]
  },
  {
   "cell_type": "markdown",
   "metadata": {},
   "source": [
    "As we can see, the range of percentage for good loan to bad loan is huge. So we keep the column and try to find a way to convert it to numeric."
   ]
  },
  {
   "cell_type": "code",
   "execution_count": 30,
   "metadata": {},
   "outputs": [],
   "source": [
    "# If we observe, the ratios are in descending order. So, simple label encoding would work for this column\n",
    "other_var['sub_grade']=pd.factorize( other_var['sub_grade'] )[0]\n",
    "\n",
    "other_var_tst['sub_grade']=pd.factorize( other_var_tst['sub_grade'] )[0]"
   ]
  },
  {
   "cell_type": "code",
   "execution_count": 31,
   "metadata": {},
   "outputs": [],
   "source": [
    "# dropping emp_title as it can cause disturbances in the model (Train and test datasets might not have same unique emp_title(s)).\n",
    "other_var= other_var.drop(['emp_title'],axis=1)\n",
    "\n",
    "other_var_tst = other_var_tst.drop(['emp_title'],axis=1)"
   ]
  },
  {
   "cell_type": "code",
   "execution_count": 32,
   "metadata": {},
   "outputs": [],
   "source": [
    "#let us perform onehot encoding on onehot_df"
   ]
  },
  {
   "cell_type": "code",
   "execution_count": 33,
   "metadata": {},
   "outputs": [],
   "source": [
    "onehot_dfcol = onehot_df.columns\n",
    "\n",
    "tst_onehot_dfcol = tst_onehot_df.columns"
   ]
  },
  {
   "cell_type": "code",
   "execution_count": 34,
   "metadata": {},
   "outputs": [],
   "source": [
    "# Let us perform one hot encoding on the onehot_df dataframe\n",
    "# Let's create a function to create dummy variables for all columns\n",
    "\n",
    "def one_hot(df,variable,top_x_labels):\n",
    "  for label in top_x_labels:\n",
    "    onehot_df[variable+'_'+label] = np.where(onehot_df[variable]==label,1,0)\n",
    "\n",
    "def tst_one_hot(df,variable,top_x_labels):\n",
    "  for label in top_x_labels:\n",
    "    tst_onehot_df[variable+'_'+label] = np.where(tst_onehot_df[variable]==label,1,0) "
   ]
  },
  {
   "cell_type": "code",
   "execution_count": 35,
   "metadata": {},
   "outputs": [],
   "source": [
    "# Performing one hot encoding for all columns using 'for' loop\n",
    "for c in onehot_df.columns:\n",
    "   top_20 = [x for x in onehot_df[c].value_counts().sort_values(ascending=False).head(20).index]\n",
    "   one_hot(onehot_df,c,top_20)  \n",
    "\n",
    "for c in tst_onehot_df.columns:\n",
    "   top_20 = [x for x in tst_onehot_df[c].value_counts().sort_values(ascending=False).head(20).index]\n",
    "   tst_one_hot(tst_onehot_df,c,top_20) "
   ]
  },
  {
   "cell_type": "code",
   "execution_count": 36,
   "metadata": {},
   "outputs": [],
   "source": [
    "#dropping main columns\n",
    "for c in onehot_dfcol:\n",
    "  onehot_df = onehot_df.drop([c],axis=1)\n",
    "\n",
    "for c in tst_onehot_dfcol:\n",
    "  tst_onehot_df = tst_onehot_df.drop([c],axis=1)  "
   ]
  },
  {
   "cell_type": "code",
   "execution_count": 37,
   "metadata": {},
   "outputs": [
    {
     "data": {
      "text/plain": [
       "Index(['term_ 36 months', 'term_ 60 months', 'grade_B', 'grade_C', 'grade_A',\n",
       "       'grade_D', 'grade_E', 'grade_F', 'grade_G', 'emp_length_10+ years',\n",
       "       'emp_length_2 years', 'emp_length_3 years', 'emp_length_< 1 year',\n",
       "       'emp_length_1 year', 'emp_length_4 years', 'emp_length_5 years',\n",
       "       'emp_length_6 years', 'emp_length_8 years', 'emp_length_7 years',\n",
       "       'emp_length_9 years', 'home_ownership_MORTGAGE', 'home_ownership_RENT',\n",
       "       'home_ownership_OWN', 'home_ownership_ANY',\n",
       "       'verification_status_Source Verified',\n",
       "       'verification_status_Not Verified', 'verification_status_Verified',\n",
       "       'loan_status_0', 'loan_status_1', 'pymnt_plan_n', 'pymnt_plan_y',\n",
       "       'purpose_debt_consolidation', 'purpose_credit_card',\n",
       "       'purpose_home_improvement', 'purpose_other', 'purpose_major_purchase',\n",
       "       'purpose_medical', 'purpose_car', 'purpose_small_business',\n",
       "       'purpose_house', 'purpose_vacation', 'purpose_moving',\n",
       "       'purpose_renewable_energy', 'purpose_wedding',\n",
       "       'title_Debt consolidation', 'title_Credit card refinancing',\n",
       "       'title_Home improvement', 'title_Other', 'title_Major purchase',\n",
       "       'title_Medical expenses', 'title_Car financing', 'title_Business',\n",
       "       'title_Home buying', 'title_Vacation', 'title_Moving and relocation',\n",
       "       'title_Green loan', 'title_Credit Card Consolidation',\n",
       "       'initial_list_status_w', 'initial_list_status_f',\n",
       "       'application_type_Individual', 'application_type_Joint App',\n",
       "       'hardship_flag_N', 'hardship_flag_Y', 'disbursement_method_Cash',\n",
       "       'disbursement_method_DirectPay', 'debt_settlement_flag_N',\n",
       "       'debt_settlement_flag_Y'],\n",
       "      dtype='object')"
      ]
     },
     "execution_count": 37,
     "metadata": {},
     "output_type": "execute_result"
    }
   ],
   "source": [
    "onehot_df.columns"
   ]
  },
  {
   "cell_type": "code",
   "execution_count": 38,
   "metadata": {},
   "outputs": [
    {
     "data": {
      "text/plain": [
       "Index(['term_ 36 months', 'term_ 60 months', 'grade_B', 'grade_C', 'grade_A',\n",
       "       'grade_D', 'grade_E', 'grade_F', 'grade_G', 'emp_length_10+ years',\n",
       "       'emp_length_2 years', 'emp_length_3 years', 'emp_length_< 1 year',\n",
       "       'emp_length_1 year', 'emp_length_4 years', 'emp_length_5 years',\n",
       "       'emp_length_6 years', 'emp_length_8 years', 'emp_length_7 years',\n",
       "       'emp_length_9 years', 'home_ownership_MORTGAGE', 'home_ownership_RENT',\n",
       "       'home_ownership_OWN', 'home_ownership_ANY',\n",
       "       'verification_status_Source Verified',\n",
       "       'verification_status_Not Verified', 'verification_status_Verified',\n",
       "       'loan_status_0', 'loan_status_1', 'pymnt_plan_n', 'pymnt_plan_y',\n",
       "       'purpose_debt_consolidation', 'purpose_credit_card',\n",
       "       'purpose_home_improvement', 'purpose_other', 'purpose_major_purchase',\n",
       "       'purpose_medical', 'purpose_car', 'purpose_small_business',\n",
       "       'purpose_house', 'purpose_vacation', 'purpose_moving',\n",
       "       'purpose_renewable_energy', 'purpose_wedding',\n",
       "       'title_Debt consolidation', 'title_Credit card refinancing',\n",
       "       'title_Home improvement', 'title_Other', 'title_Major purchase',\n",
       "       'title_Medical expenses', 'title_Car financing', 'title_Business',\n",
       "       'title_Home buying', 'title_Vacation', 'title_Moving and relocation',\n",
       "       'title_Green loan', 'initial_list_status_w', 'initial_list_status_f',\n",
       "       'application_type_Individual', 'application_type_Joint App',\n",
       "       'hardship_flag_N', 'hardship_flag_Y', 'disbursement_method_Cash',\n",
       "       'disbursement_method_DirectPay', 'debt_settlement_flag_N',\n",
       "       'debt_settlement_flag_Y'],\n",
       "      dtype='object')"
      ]
     },
     "execution_count": 38,
     "metadata": {},
     "output_type": "execute_result"
    }
   ],
   "source": [
    "tst_onehot_df.columns"
   ]
  },
  {
   "cell_type": "code",
   "execution_count": 39,
   "metadata": {},
   "outputs": [],
   "source": [
    "final_dataframe = pd.concat([onehot_df,other_var,numerical_df],axis=1)\n",
    "\n",
    "tst_final_dataframe = pd.concat([tst_onehot_df,other_var_tst,tst_numerical_df],axis=1)"
   ]
  },
  {
   "cell_type": "code",
   "execution_count": 40,
   "metadata": {},
   "outputs": [],
   "source": [
    "c = ['loan_status_0','term_ 60 months','grade_G','emp_length_9 years','home_ownership_ANY','verification_status_Verified','pymnt_plan_y','purpose_wedding','title_Green loan','initial_list_status_f','application_type_Joint App','hardship_flag_Y','disbursement_method_DirectPay','debt_settlement_flag_Y']\n",
    "\n",
    "for i in c:\n",
    "  final_dataframe = final_dataframe.drop([i],axis=1)\n",
    "  tst_final_dataframe = tst_final_dataframe.drop([i],axis=1)"
   ]
  },
  {
   "cell_type": "code",
   "execution_count": 41,
   "metadata": {},
   "outputs": [],
   "source": [
    "final_dataframe = final_dataframe.drop(['title_Credit Card Consolidation'],axis=1)"
   ]
  },
  {
   "cell_type": "code",
   "execution_count": 42,
   "metadata": {},
   "outputs": [],
   "source": [
    "cols = list(final_dataframe)\n",
    "cols.insert(0, cols.pop(cols.index('loan_status_1')))\n",
    "final_dataframe = final_dataframe.loc[:, cols]"
   ]
  },
  {
   "cell_type": "code",
   "execution_count": 43,
   "metadata": {},
   "outputs": [],
   "source": [
    "cols = list(tst_final_dataframe)\n",
    "cols.insert(0, cols.pop(cols.index('loan_status_1')))\n",
    "tst_final_dataframe = tst_final_dataframe.loc[:, cols]"
   ]
  },
  {
   "cell_type": "code",
   "execution_count": 44,
   "metadata": {},
   "outputs": [
    {
     "data": {
      "text/html": [
       "<div>\n",
       "<style scoped>\n",
       "    .dataframe tbody tr th:only-of-type {\n",
       "        vertical-align: middle;\n",
       "    }\n",
       "\n",
       "    .dataframe tbody tr th {\n",
       "        vertical-align: top;\n",
       "    }\n",
       "\n",
       "    .dataframe thead th {\n",
       "        text-align: right;\n",
       "    }\n",
       "</style>\n",
       "<table border=\"1\" class=\"dataframe\">\n",
       "  <thead>\n",
       "    <tr style=\"text-align: right;\">\n",
       "      <th></th>\n",
       "      <th>loan_status_1</th>\n",
       "      <th>term_ 36 months</th>\n",
       "      <th>grade_B</th>\n",
       "      <th>grade_C</th>\n",
       "      <th>grade_A</th>\n",
       "      <th>grade_D</th>\n",
       "      <th>grade_E</th>\n",
       "      <th>grade_F</th>\n",
       "      <th>emp_length_10+ years</th>\n",
       "      <th>emp_length_2 years</th>\n",
       "      <th>...</th>\n",
       "      <th>num_tl_90g_dpd_24m</th>\n",
       "      <th>num_tl_op_past_12m</th>\n",
       "      <th>pct_tl_nvr_dlq</th>\n",
       "      <th>percent_bc_gt_75</th>\n",
       "      <th>pub_rec_bankruptcies</th>\n",
       "      <th>tax_liens</th>\n",
       "      <th>tot_hi_cred_lim</th>\n",
       "      <th>total_bal_ex_mort</th>\n",
       "      <th>total_bc_limit</th>\n",
       "      <th>total_il_high_credit_limit</th>\n",
       "    </tr>\n",
       "  </thead>\n",
       "  <tbody>\n",
       "    <tr>\n",
       "      <th>410465</th>\n",
       "      <td>0</td>\n",
       "      <td>1</td>\n",
       "      <td>1</td>\n",
       "      <td>0</td>\n",
       "      <td>0</td>\n",
       "      <td>0</td>\n",
       "      <td>0</td>\n",
       "      <td>0</td>\n",
       "      <td>1</td>\n",
       "      <td>0</td>\n",
       "      <td>...</td>\n",
       "      <td>0</td>\n",
       "      <td>1</td>\n",
       "      <td>100.0</td>\n",
       "      <td>80.0</td>\n",
       "      <td>0</td>\n",
       "      <td>0</td>\n",
       "      <td>429486</td>\n",
       "      <td>60203</td>\n",
       "      <td>22100</td>\n",
       "      <td>54904</td>\n",
       "    </tr>\n",
       "    <tr>\n",
       "      <th>723222</th>\n",
       "      <td>0</td>\n",
       "      <td>0</td>\n",
       "      <td>0</td>\n",
       "      <td>0</td>\n",
       "      <td>0</td>\n",
       "      <td>0</td>\n",
       "      <td>0</td>\n",
       "      <td>0</td>\n",
       "      <td>0</td>\n",
       "      <td>0</td>\n",
       "      <td>...</td>\n",
       "      <td>1</td>\n",
       "      <td>4</td>\n",
       "      <td>78.3</td>\n",
       "      <td>66.7</td>\n",
       "      <td>1</td>\n",
       "      <td>0</td>\n",
       "      <td>448563</td>\n",
       "      <td>111393</td>\n",
       "      <td>4500</td>\n",
       "      <td>127215</td>\n",
       "    </tr>\n",
       "    <tr>\n",
       "      <th>755693</th>\n",
       "      <td>0</td>\n",
       "      <td>1</td>\n",
       "      <td>0</td>\n",
       "      <td>1</td>\n",
       "      <td>0</td>\n",
       "      <td>0</td>\n",
       "      <td>0</td>\n",
       "      <td>0</td>\n",
       "      <td>0</td>\n",
       "      <td>0</td>\n",
       "      <td>...</td>\n",
       "      <td>0</td>\n",
       "      <td>2</td>\n",
       "      <td>100.0</td>\n",
       "      <td>20.0</td>\n",
       "      <td>0</td>\n",
       "      <td>0</td>\n",
       "      <td>120075</td>\n",
       "      <td>40441</td>\n",
       "      <td>20200</td>\n",
       "      <td>35500</td>\n",
       "    </tr>\n",
       "    <tr>\n",
       "      <th>854924</th>\n",
       "      <td>0</td>\n",
       "      <td>1</td>\n",
       "      <td>0</td>\n",
       "      <td>1</td>\n",
       "      <td>0</td>\n",
       "      <td>0</td>\n",
       "      <td>0</td>\n",
       "      <td>0</td>\n",
       "      <td>0</td>\n",
       "      <td>0</td>\n",
       "      <td>...</td>\n",
       "      <td>0</td>\n",
       "      <td>1</td>\n",
       "      <td>100.0</td>\n",
       "      <td>25.0</td>\n",
       "      <td>0</td>\n",
       "      <td>1</td>\n",
       "      <td>27800</td>\n",
       "      <td>17436</td>\n",
       "      <td>10800</td>\n",
       "      <td>15000</td>\n",
       "    </tr>\n",
       "    <tr>\n",
       "      <th>9551</th>\n",
       "      <td>0</td>\n",
       "      <td>1</td>\n",
       "      <td>0</td>\n",
       "      <td>0</td>\n",
       "      <td>1</td>\n",
       "      <td>0</td>\n",
       "      <td>0</td>\n",
       "      <td>0</td>\n",
       "      <td>0</td>\n",
       "      <td>0</td>\n",
       "      <td>...</td>\n",
       "      <td>0</td>\n",
       "      <td>1</td>\n",
       "      <td>100.0</td>\n",
       "      <td>100.0</td>\n",
       "      <td>0</td>\n",
       "      <td>0</td>\n",
       "      <td>21083</td>\n",
       "      <td>10536</td>\n",
       "      <td>2200</td>\n",
       "      <td>8383</td>\n",
       "    </tr>\n",
       "  </tbody>\n",
       "</table>\n",
       "<p>5 rows × 134 columns</p>\n",
       "</div>"
      ],
      "text/plain": [
       "        loan_status_1  term_ 36 months  grade_B  grade_C  grade_A  grade_D  \\\n",
       "410465              0                1        1        0        0        0   \n",
       "723222              0                0        0        0        0        0   \n",
       "755693              0                1        0        1        0        0   \n",
       "854924              0                1        0        1        0        0   \n",
       "9551                0                1        0        0        1        0   \n",
       "\n",
       "        grade_E  grade_F  emp_length_10+ years  emp_length_2 years  ...  \\\n",
       "410465        0        0                     1                   0  ...   \n",
       "723222        0        0                     0                   0  ...   \n",
       "755693        0        0                     0                   0  ...   \n",
       "854924        0        0                     0                   0  ...   \n",
       "9551          0        0                     0                   0  ...   \n",
       "\n",
       "        num_tl_90g_dpd_24m  num_tl_op_past_12m  pct_tl_nvr_dlq  \\\n",
       "410465                   0                   1           100.0   \n",
       "723222                   1                   4            78.3   \n",
       "755693                   0                   2           100.0   \n",
       "854924                   0                   1           100.0   \n",
       "9551                     0                   1           100.0   \n",
       "\n",
       "        percent_bc_gt_75  pub_rec_bankruptcies  tax_liens  tot_hi_cred_lim  \\\n",
       "410465              80.0                     0          0           429486   \n",
       "723222              66.7                     1          0           448563   \n",
       "755693              20.0                     0          0           120075   \n",
       "854924              25.0                     0          1            27800   \n",
       "9551               100.0                     0          0            21083   \n",
       "\n",
       "        total_bal_ex_mort  total_bc_limit  total_il_high_credit_limit  \n",
       "410465              60203           22100                       54904  \n",
       "723222             111393            4500                      127215  \n",
       "755693              40441           20200                       35500  \n",
       "854924              17436           10800                       15000  \n",
       "9551                10536            2200                        8383  \n",
       "\n",
       "[5 rows x 134 columns]"
      ]
     },
     "execution_count": 44,
     "metadata": {},
     "output_type": "execute_result"
    }
   ],
   "source": [
    "final_dataframe.head()"
   ]
  },
  {
   "cell_type": "code",
   "execution_count": 45,
   "metadata": {},
   "outputs": [],
   "source": [
    "final_dataframe.to_csv('train.csv',index=False)"
   ]
  },
  {
   "cell_type": "code",
   "execution_count": 46,
   "metadata": {},
   "outputs": [],
   "source": [
    "tst_final_dataframe.to_csv('test.csv',index=False)"
   ]
  },
  {
   "cell_type": "code",
   "execution_count": 47,
   "metadata": {},
   "outputs": [
    {
     "data": {
      "text/plain": [
       "(434656, 0)"
      ]
     },
     "execution_count": 47,
     "metadata": {},
     "output_type": "execute_result"
    }
   ],
   "source": [
    "# Final check whether there are categorical variables in our dataframe.\n",
    "numeric = final_dataframe.select_dtypes(exclude=np.number)\n",
    "numeric.shape"
   ]
  },
  {
   "cell_type": "code",
   "execution_count": 48,
   "metadata": {},
   "outputs": [
    {
     "data": {
      "text/plain": [
       "(434656, 134)"
      ]
     },
     "execution_count": 48,
     "metadata": {},
     "output_type": "execute_result"
    }
   ],
   "source": [
    "final_dataframe.shape"
   ]
  },
  {
   "cell_type": "code",
   "execution_count": 49,
   "metadata": {},
   "outputs": [
    {
     "data": {
      "text/plain": [
       "(186261, 134)"
      ]
     },
     "execution_count": 49,
     "metadata": {},
     "output_type": "execute_result"
    }
   ],
   "source": [
    "tst_final_dataframe.shape"
   ]
  },
  {
   "cell_type": "code",
   "execution_count": 50,
   "metadata": {},
   "outputs": [
    {
     "data": {
      "text/html": [
       "<div>\n",
       "<style scoped>\n",
       "    .dataframe tbody tr th:only-of-type {\n",
       "        vertical-align: middle;\n",
       "    }\n",
       "\n",
       "    .dataframe tbody tr th {\n",
       "        vertical-align: top;\n",
       "    }\n",
       "\n",
       "    .dataframe thead th {\n",
       "        text-align: right;\n",
       "    }\n",
       "</style>\n",
       "<table border=\"1\" class=\"dataframe\">\n",
       "  <thead>\n",
       "    <tr style=\"text-align: right;\">\n",
       "      <th></th>\n",
       "      <th>loan_status_1</th>\n",
       "      <th>term_ 36 months</th>\n",
       "      <th>grade_B</th>\n",
       "      <th>grade_C</th>\n",
       "      <th>grade_A</th>\n",
       "      <th>grade_D</th>\n",
       "      <th>grade_E</th>\n",
       "      <th>grade_F</th>\n",
       "      <th>emp_length_10+ years</th>\n",
       "      <th>emp_length_2 years</th>\n",
       "      <th>...</th>\n",
       "      <th>num_tl_90g_dpd_24m</th>\n",
       "      <th>num_tl_op_past_12m</th>\n",
       "      <th>pct_tl_nvr_dlq</th>\n",
       "      <th>percent_bc_gt_75</th>\n",
       "      <th>pub_rec_bankruptcies</th>\n",
       "      <th>tax_liens</th>\n",
       "      <th>tot_hi_cred_lim</th>\n",
       "      <th>total_bal_ex_mort</th>\n",
       "      <th>total_bc_limit</th>\n",
       "      <th>total_il_high_credit_limit</th>\n",
       "    </tr>\n",
       "  </thead>\n",
       "  <tbody>\n",
       "    <tr>\n",
       "      <th>750184</th>\n",
       "      <td>0</td>\n",
       "      <td>1</td>\n",
       "      <td>1</td>\n",
       "      <td>0</td>\n",
       "      <td>0</td>\n",
       "      <td>0</td>\n",
       "      <td>0</td>\n",
       "      <td>0</td>\n",
       "      <td>0</td>\n",
       "      <td>1</td>\n",
       "      <td>...</td>\n",
       "      <td>0</td>\n",
       "      <td>1</td>\n",
       "      <td>100.0</td>\n",
       "      <td>100.0</td>\n",
       "      <td>0</td>\n",
       "      <td>0</td>\n",
       "      <td>58953</td>\n",
       "      <td>46140</td>\n",
       "      <td>12000</td>\n",
       "      <td>42953</td>\n",
       "    </tr>\n",
       "    <tr>\n",
       "      <th>669864</th>\n",
       "      <td>0</td>\n",
       "      <td>0</td>\n",
       "      <td>0</td>\n",
       "      <td>0</td>\n",
       "      <td>0</td>\n",
       "      <td>1</td>\n",
       "      <td>0</td>\n",
       "      <td>0</td>\n",
       "      <td>0</td>\n",
       "      <td>1</td>\n",
       "      <td>...</td>\n",
       "      <td>0</td>\n",
       "      <td>1</td>\n",
       "      <td>100.0</td>\n",
       "      <td>100.0</td>\n",
       "      <td>1</td>\n",
       "      <td>0</td>\n",
       "      <td>42670</td>\n",
       "      <td>32066</td>\n",
       "      <td>4000</td>\n",
       "      <td>35270</td>\n",
       "    </tr>\n",
       "    <tr>\n",
       "      <th>758886</th>\n",
       "      <td>0</td>\n",
       "      <td>1</td>\n",
       "      <td>0</td>\n",
       "      <td>1</td>\n",
       "      <td>0</td>\n",
       "      <td>0</td>\n",
       "      <td>0</td>\n",
       "      <td>0</td>\n",
       "      <td>0</td>\n",
       "      <td>0</td>\n",
       "      <td>...</td>\n",
       "      <td>0</td>\n",
       "      <td>0</td>\n",
       "      <td>85.7</td>\n",
       "      <td>66.7</td>\n",
       "      <td>0</td>\n",
       "      <td>0</td>\n",
       "      <td>67569</td>\n",
       "      <td>39633</td>\n",
       "      <td>13300</td>\n",
       "      <td>51869</td>\n",
       "    </tr>\n",
       "    <tr>\n",
       "      <th>786217</th>\n",
       "      <td>0</td>\n",
       "      <td>1</td>\n",
       "      <td>0</td>\n",
       "      <td>1</td>\n",
       "      <td>0</td>\n",
       "      <td>0</td>\n",
       "      <td>0</td>\n",
       "      <td>0</td>\n",
       "      <td>0</td>\n",
       "      <td>0</td>\n",
       "      <td>...</td>\n",
       "      <td>0</td>\n",
       "      <td>3</td>\n",
       "      <td>100.0</td>\n",
       "      <td>18.2</td>\n",
       "      <td>0</td>\n",
       "      <td>0</td>\n",
       "      <td>324986</td>\n",
       "      <td>31072</td>\n",
       "      <td>34300</td>\n",
       "      <td>24761</td>\n",
       "    </tr>\n",
       "    <tr>\n",
       "      <th>239960</th>\n",
       "      <td>0</td>\n",
       "      <td>1</td>\n",
       "      <td>0</td>\n",
       "      <td>0</td>\n",
       "      <td>1</td>\n",
       "      <td>0</td>\n",
       "      <td>0</td>\n",
       "      <td>0</td>\n",
       "      <td>1</td>\n",
       "      <td>0</td>\n",
       "      <td>...</td>\n",
       "      <td>1</td>\n",
       "      <td>0</td>\n",
       "      <td>94.3</td>\n",
       "      <td>69.2</td>\n",
       "      <td>0</td>\n",
       "      <td>0</td>\n",
       "      <td>445016</td>\n",
       "      <td>64304</td>\n",
       "      <td>51900</td>\n",
       "      <td>25491</td>\n",
       "    </tr>\n",
       "  </tbody>\n",
       "</table>\n",
       "<p>5 rows × 134 columns</p>\n",
       "</div>"
      ],
      "text/plain": [
       "        loan_status_1  term_ 36 months  grade_B  grade_C  grade_A  grade_D  \\\n",
       "750184              0                1        1        0        0        0   \n",
       "669864              0                0        0        0        0        1   \n",
       "758886              0                1        0        1        0        0   \n",
       "786217              0                1        0        1        0        0   \n",
       "239960              0                1        0        0        1        0   \n",
       "\n",
       "        grade_E  grade_F  emp_length_10+ years  emp_length_2 years  ...  \\\n",
       "750184        0        0                     0                   1  ...   \n",
       "669864        0        0                     0                   1  ...   \n",
       "758886        0        0                     0                   0  ...   \n",
       "786217        0        0                     0                   0  ...   \n",
       "239960        0        0                     1                   0  ...   \n",
       "\n",
       "        num_tl_90g_dpd_24m  num_tl_op_past_12m  pct_tl_nvr_dlq  \\\n",
       "750184                   0                   1           100.0   \n",
       "669864                   0                   1           100.0   \n",
       "758886                   0                   0            85.7   \n",
       "786217                   0                   3           100.0   \n",
       "239960                   1                   0            94.3   \n",
       "\n",
       "        percent_bc_gt_75  pub_rec_bankruptcies  tax_liens  tot_hi_cred_lim  \\\n",
       "750184             100.0                     0          0            58953   \n",
       "669864             100.0                     1          0            42670   \n",
       "758886              66.7                     0          0            67569   \n",
       "786217              18.2                     0          0           324986   \n",
       "239960              69.2                     0          0           445016   \n",
       "\n",
       "        total_bal_ex_mort  total_bc_limit  total_il_high_credit_limit  \n",
       "750184              46140           12000                       42953  \n",
       "669864              32066            4000                       35270  \n",
       "758886              39633           13300                       51869  \n",
       "786217              31072           34300                       24761  \n",
       "239960              64304           51900                       25491  \n",
       "\n",
       "[5 rows x 134 columns]"
      ]
     },
     "execution_count": 50,
     "metadata": {},
     "output_type": "execute_result"
    }
   ],
   "source": [
    "tst_final_dataframe.head()"
   ]
  },
  {
   "cell_type": "code",
   "execution_count": 51,
   "metadata": {},
   "outputs": [],
   "source": [
    "\n",
    "target = pd.DataFrame()\n",
    "#final_dataframe = final_dataframe.drop(['loan_status_0'],axis = 1)\n",
    "target = final_dataframe['loan_status_1']\n",
    "final_dataframe = final_dataframe.drop(['loan_status_1'],axis = 1)\n",
    "#final_dataframe = final_dataframe.drop(['title_Credit Card Consolidation'],axis=1)\n",
    "\n",
    "tst_target = pd.DataFrame()\n",
    "#tst_final_dataframe = tst_final_dataframe.drop(['loan_status_0'],axis = 1)\n",
    "tst_target = tst_final_dataframe['loan_status_1']\n",
    "tst_final_dataframe = tst_final_dataframe.drop(['loan_status_1'],axis = 1)"
   ]
  },
  {
   "cell_type": "code",
   "execution_count": null,
   "metadata": {},
   "outputs": [],
   "source": []
  },
  {
   "cell_type": "code",
   "execution_count": 52,
   "metadata": {},
   "outputs": [
    {
     "name": "stdout",
     "output_type": "stream",
     "text": [
      "Saving data to S3\n"
     ]
    }
   ],
   "source": [
    "print(\"Saving data to S3\")"
   ]
  },
  {
   "cell_type": "code",
   "execution_count": 53,
   "metadata": {},
   "outputs": [],
   "source": [
    "#Final data frame & tst dinal dataframe has the loan_status_1 (target) removed "
   ]
  },
  {
   "cell_type": "code",
   "execution_count": 54,
   "metadata": {},
   "outputs": [],
   "source": [
    "#data.to_csv('loan_data_processed.csv',index=False)"
   ]
  },
  {
   "cell_type": "code",
   "execution_count": 55,
   "metadata": {},
   "outputs": [],
   "source": [
    "#final_dataframe.to_csv('final_dataframe.csv',index=False)"
   ]
  },
  {
   "cell_type": "code",
   "execution_count": 56,
   "metadata": {},
   "outputs": [],
   "source": [
    "#tst_final_dataframe.to_csv('tst_final_dataframe.csv',index=False)"
   ]
  },
  {
   "cell_type": "code",
   "execution_count": 57,
   "metadata": {},
   "outputs": [],
   "source": [
    "#data.shape"
   ]
  },
  {
   "cell_type": "code",
   "execution_count": 58,
   "metadata": {},
   "outputs": [],
   "source": [
    "# splitting the data into training and test datasets\n",
    "from sklearn.model_selection import train_test_split\n",
    "\n",
    "np.random.seed(10)\n",
    "\n",
    "train, test = train_test_split(data, test_size=0.0005)"
   ]
  },
  {
   "cell_type": "code",
   "execution_count": 59,
   "metadata": {},
   "outputs": [],
   "source": [
    "# Drop rows containing Nan's\n",
    "train = train.dropna()\n",
    "test = test.dropna()"
   ]
  },
  {
   "cell_type": "code",
   "execution_count": 60,
   "metadata": {},
   "outputs": [],
   "source": [
    "# Removing the target variable from our data as we are trying to build Unsupervised machine learning model\n",
    "target = train['loan_status']\n",
    "tst_target = test['loan_status']\n",
    "\n",
    "train = train.drop(['loan_status'], axis = 1)\n",
    "test = test.drop(['loan_status'], axis = 1)"
   ]
  },
  {
   "cell_type": "code",
   "execution_count": 61,
   "metadata": {},
   "outputs": [],
   "source": [
    "# Separating out categorical and numerical\n",
    "categorical_df = train.select_dtypes(exclude = np.number)\n",
    "numerical_df = train.select_dtypes(include = np.number)\n",
    "\n",
    "tst_categorical_df = test.select_dtypes(exclude = np.number)\n",
    "tst_numerical_df = test.select_dtypes(include = np.number)"
   ]
  },
  {
   "cell_type": "code",
   "execution_count": 62,
   "metadata": {},
   "outputs": [],
   "source": [
    "# Figuring out which columns has less than or equal to 20 unique values, so that we can perform onehot encoding on those columns.\n",
    "onehot_df = pd.DataFrame()\n",
    "for c in categorical_df.columns:\n",
    "  if len(categorical_df[c].unique()) <= 20:\n",
    "    onehot_df[c] = categorical_df[c]    \n",
    "\n",
    "tst_onehot_df = pd.DataFrame()\n",
    "for c in tst_categorical_df.columns:\n",
    "  if len(tst_categorical_df[c].unique()) <= 20:\n",
    "    tst_onehot_df[c] = tst_categorical_df[c]"
   ]
  },
  {
   "cell_type": "code",
   "execution_count": 63,
   "metadata": {},
   "outputs": [],
   "source": [
    "# Storing the other columns which have more unique values in another dataframe.\n",
    "other_var = categorical_df\n",
    "\n",
    "for c in onehot_df:\n",
    "  other_var = other_var.drop([c], axis=1)\n",
    "\n",
    "\n",
    "other_var_tst = tst_categorical_df\n",
    "\n",
    "for c in tst_onehot_df:\n",
    "  other_var_tst = other_var_tst.drop([c], axis=1)  \n",
    "\n",
    "# For the variables in other_var, let us group them first, and then apply onehot encoding."
   ]
  },
  {
   "cell_type": "code",
   "execution_count": 64,
   "metadata": {},
   "outputs": [],
   "source": [
    "# Converting the date columns to datetime so that we can make some time duration out of it.\n",
    "\n",
    "date_col = ['issue_d','last_pymnt_d','earliest_cr_line','last_credit_pull_d']\n",
    "\n",
    "for c in date_col:\n",
    "   other_var[c] = pd.to_datetime(pd.Series(other_var[c]), format='%b-%y')\n",
    "\n",
    "for c in date_col:\n",
    "   other_var_tst[c] = pd.to_datetime(pd.Series(other_var_tst[c]), format='%b-%y')  "
   ]
  },
  {
   "cell_type": "code",
   "execution_count": 65,
   "metadata": {},
   "outputs": [],
   "source": [
    "# Finding different between the dates and dropping main columns\n",
    "\n",
    "other_var['diff_issue_lastpymnt'] = other_var['last_pymnt_d'] - other_var['issue_d'] \n",
    "other_var['diff_earliestcrline_lastcrdtpull'] = other_var['last_credit_pull_d'] - other_var['earliest_cr_line']\n",
    "\n",
    "for c in date_col:\n",
    "  other_var = other_var.drop([c], axis = 1)\n",
    "\n",
    "other_var_tst['diff_issue_lastpymnt'] = other_var_tst['last_pymnt_d'] - other_var_tst['issue_d'] \n",
    "other_var_tst['diff_earliestcrline_lastcrdtpull'] = other_var_tst['last_credit_pull_d'] - other_var_tst['earliest_cr_line']\n",
    "\n",
    "for c in date_col:\n",
    "  other_var_tst = other_var_tst.drop([c], axis = 1)  "
   ]
  },
  {
   "cell_type": "code",
   "execution_count": 66,
   "metadata": {},
   "outputs": [],
   "source": [
    "# Converting time duration to numeric\n",
    "other_var['diff_issue_lastpymnt'] = other_var.diff_issue_lastpymnt.apply(lambda x: x.days)\n",
    "other_var['diff_earliestcrline_lastcrdtpull'] = other_var.diff_earliestcrline_lastcrdtpull.apply(lambda x: x.days)\n",
    "\n",
    "other_var_tst['diff_issue_lastpymnt'] = other_var_tst.diff_issue_lastpymnt.apply(lambda x: x.days)\n",
    "other_var_tst['diff_earliestcrline_lastcrdtpull'] = other_var_tst.diff_earliestcrline_lastcrdtpull.apply(lambda x: x.days)"
   ]
  },
  {
   "cell_type": "code",
   "execution_count": 67,
   "metadata": {},
   "outputs": [],
   "source": [
    "# Dropping the zipcode column as it cannot give any info about the place as there are around 41000 zipcodes in the us and only around 900 zipcodes in the dataset.\n",
    "other_var = other_var.drop(['zip_code'],axis=1)\n",
    "\n",
    "other_var_tst = other_var_tst.drop(['zip_code'],axis=1)"
   ]
  },
  {
   "cell_type": "code",
   "execution_count": 68,
   "metadata": {},
   "outputs": [],
   "source": [
    "# Assigning good loan as '0' and bad loan as '1'\n",
    "target = target.replace({\"Current\": \"0\", \"Fully Paid\": \"0\", \"Charged Off\": \"1\", \"Late (31-120 days)\":\"1\", \"In Grace Period\":\"1\", \"Late (16-30 days)\":\"1\", \"Default\":\"1\"})\n",
    "tst_target = tst_target.replace({\"Current\": \"0\", \"Fully Paid\": \"0\", \"Charged Off\": \"1\", \"Late (31-120 days)\":\"1\", \"In Grace Period\":\"1\", \"Late (16-30 days)\":\"1\", \"Default\":\"1\"})"
   ]
  },
  {
   "cell_type": "code",
   "execution_count": 69,
   "metadata": {},
   "outputs": [
    {
     "name": "stderr",
     "output_type": "stream",
     "text": [
      "<ipython-input-69-bee79759d559>:1: SettingWithCopyWarning: \n",
      "A value is trying to be set on a copy of a slice from a DataFrame.\n",
      "Try using .loc[row_indexer,col_indexer] = value instead\n",
      "\n",
      "See the caveats in the documentation: https://pandas.pydata.org/pandas-docs/stable/user_guide/indexing.html#returning-a-view-versus-a-copy\n",
      "  numerical_df['diff_issue_lastpymnt'] = other_var['diff_issue_lastpymnt']\n",
      "<ipython-input-69-bee79759d559>:2: SettingWithCopyWarning: \n",
      "A value is trying to be set on a copy of a slice from a DataFrame.\n",
      "Try using .loc[row_indexer,col_indexer] = value instead\n",
      "\n",
      "See the caveats in the documentation: https://pandas.pydata.org/pandas-docs/stable/user_guide/indexing.html#returning-a-view-versus-a-copy\n",
      "  numerical_df['diff_earliestcrline_lastcrdtpull'] = other_var['diff_earliestcrline_lastcrdtpull']\n",
      "<ipython-input-69-bee79759d559>:4: SettingWithCopyWarning: \n",
      "A value is trying to be set on a copy of a slice from a DataFrame.\n",
      "Try using .loc[row_indexer,col_indexer] = value instead\n",
      "\n",
      "See the caveats in the documentation: https://pandas.pydata.org/pandas-docs/stable/user_guide/indexing.html#returning-a-view-versus-a-copy\n",
      "  tst_numerical_df['diff_issue_lastpymnt'] = other_var_tst['diff_issue_lastpymnt']\n",
      "<ipython-input-69-bee79759d559>:5: SettingWithCopyWarning: \n",
      "A value is trying to be set on a copy of a slice from a DataFrame.\n",
      "Try using .loc[row_indexer,col_indexer] = value instead\n",
      "\n",
      "See the caveats in the documentation: https://pandas.pydata.org/pandas-docs/stable/user_guide/indexing.html#returning-a-view-versus-a-copy\n",
      "  tst_numerical_df['diff_earliestcrline_lastcrdtpull'] = other_var_tst['diff_earliestcrline_lastcrdtpull']\n"
     ]
    }
   ],
   "source": [
    "numerical_df['diff_issue_lastpymnt'] = other_var['diff_issue_lastpymnt']\n",
    "numerical_df['diff_earliestcrline_lastcrdtpull'] = other_var['diff_earliestcrline_lastcrdtpull']\n",
    "\n",
    "tst_numerical_df['diff_issue_lastpymnt'] = other_var_tst['diff_issue_lastpymnt']\n",
    "tst_numerical_df['diff_earliestcrline_lastcrdtpull'] = other_var_tst['diff_earliestcrline_lastcrdtpull']"
   ]
  },
  {
   "cell_type": "code",
   "execution_count": 70,
   "metadata": {},
   "outputs": [],
   "source": [
    "other_var = other_var.drop(['diff_issue_lastpymnt'], axis = 1)\n",
    "other_var = other_var.drop(['diff_earliestcrline_lastcrdtpull'], axis = 1)\n",
    "other_var_tst = other_var_tst.drop(['diff_issue_lastpymnt'], axis = 1)\n",
    "other_var_tst = other_var_tst.drop(['diff_earliestcrline_lastcrdtpull'], axis = 1)"
   ]
  },
  {
   "cell_type": "code",
   "execution_count": 71,
   "metadata": {},
   "outputs": [],
   "source": [
    "# As sub_grade is based on performance we'll just label encode it.\n",
    "other_var['sub_grade'] = pd.factorize( other_var['sub_grade'] )[0]\n",
    "other_var_tst['sub_grade'] = pd.factorize( other_var_tst['sub_grade'] )[0]"
   ]
  },
  {
   "cell_type": "code",
   "execution_count": 72,
   "metadata": {},
   "outputs": [
    {
     "name": "stderr",
     "output_type": "stream",
     "text": [
      "<ipython-input-72-7ead5417c0fb>:1: SettingWithCopyWarning: \n",
      "A value is trying to be set on a copy of a slice from a DataFrame.\n",
      "Try using .loc[row_indexer,col_indexer] = value instead\n",
      "\n",
      "See the caveats in the documentation: https://pandas.pydata.org/pandas-docs/stable/user_guide/indexing.html#returning-a-view-versus-a-copy\n",
      "  numerical_df['subgrade'] = other_var['sub_grade']\n",
      "<ipython-input-72-7ead5417c0fb>:4: SettingWithCopyWarning: \n",
      "A value is trying to be set on a copy of a slice from a DataFrame.\n",
      "Try using .loc[row_indexer,col_indexer] = value instead\n",
      "\n",
      "See the caveats in the documentation: https://pandas.pydata.org/pandas-docs/stable/user_guide/indexing.html#returning-a-view-versus-a-copy\n",
      "  tst_numerical_df['subgrade'] = other_var_tst['sub_grade']\n"
     ]
    }
   ],
   "source": [
    "numerical_df['subgrade'] = other_var['sub_grade']\n",
    "other_var = other_var.drop(['sub_grade'] , axis = 1)\n",
    "\n",
    "tst_numerical_df['subgrade'] = other_var_tst['sub_grade']\n",
    "other_var_tst = other_var_tst.drop(['sub_grade'] , axis = 1)"
   ]
  },
  {
   "cell_type": "code",
   "execution_count": 73,
   "metadata": {},
   "outputs": [
    {
     "name": "stdout",
     "output_type": "stream",
     "text": [
      "term 2\n",
      "grade 7\n",
      "emp_length 11\n",
      "home_ownership 4\n",
      "verification_status 3\n",
      "pymnt_plan 2\n",
      "purpose 13\n",
      "title 13\n",
      "initial_list_status 2\n",
      "application_type 2\n",
      "hardship_flag 2\n",
      "disbursement_method 2\n",
      "debt_settlement_flag 2\n"
     ]
    }
   ],
   "source": [
    "# We will perform label encoding on columns which have only 2 unique values\n",
    "label_enc = pd.DataFrame()\n",
    "tst_label_enc = pd.DataFrame()\n",
    "\n",
    "for i in onehot_df.columns:\n",
    "  print(i,len(onehot_df[i].unique()))\n",
    "  if len(onehot_df[i].unique())<=2:\n",
    "    label_enc [i] = onehot_df[i]\n",
    "    tst_label_enc [i] = tst_onehot_df[i]\n",
    "    onehot_df = onehot_df.drop([i],axis=1)\n",
    "    tst_onehot_df = tst_onehot_df.drop([i],axis=1)"
   ]
  },
  {
   "cell_type": "code",
   "execution_count": 74,
   "metadata": {},
   "outputs": [],
   "source": [
    "# As grade is another form of score, lets also label encode it\n",
    "label_enc['grade'] = onehot_df['grade']\n",
    "onehot_df = onehot_df.drop(['grade'], axis = 1)\n",
    "tst_label_enc['grade'] = tst_onehot_df['grade']\n",
    "tst_onehot_df = tst_onehot_df.drop(['grade'], axis = 1)"
   ]
  },
  {
   "cell_type": "code",
   "execution_count": 75,
   "metadata": {},
   "outputs": [],
   "source": [
    "onehot_col = onehot_df.columns.tolist()\n",
    "tst_onehot_col = tst_onehot_df.columns.tolist()"
   ]
  },
  {
   "cell_type": "code",
   "execution_count": 76,
   "metadata": {},
   "outputs": [],
   "source": [
    "# Let us perform one hot encoding on the onehot_df dataframe\n",
    "# Let's create a function to create dummy variables for all columns\n",
    "\n",
    "def one_hot(df,variable,top_x_labels):\n",
    "  for label in top_x_labels:\n",
    "    onehot_df[variable+'_'+label] = np.where(onehot_df[variable]==label,1,0)\n",
    "\n",
    "def tst_one_hot(df,variable,top_x_labels):\n",
    "  for label in top_x_labels:\n",
    "    tst_onehot_df[variable+'_'+label] = np.where(tst_onehot_df[variable]==label,1,0)"
   ]
  },
  {
   "cell_type": "code",
   "execution_count": 77,
   "metadata": {},
   "outputs": [],
   "source": [
    "# Performing one hot encoding for all columns using 'for' loop\n",
    "for c in onehot_df.columns:\n",
    "   top_20 = [x for x in onehot_df[c].value_counts().sort_values(ascending=False).head(20).index]\n",
    "   one_hot(onehot_df,c,top_20)  \n",
    "\n",
    "for c in tst_onehot_df.columns:\n",
    "   top_20 = [x for x in tst_onehot_df[c].value_counts().sort_values(ascending=False).head(20).index]\n",
    "   tst_one_hot(tst_onehot_df,c,top_20) "
   ]
  },
  {
   "cell_type": "code",
   "execution_count": 78,
   "metadata": {},
   "outputs": [],
   "source": [
    "for i in onehot_col:\n",
    "  onehot_df = onehot_df.drop([i],axis=1)\n",
    "for i in tst_onehot_col:\n",
    "  tst_onehot_df = tst_onehot_df.drop([i],axis=1)  "
   ]
  },
  {
   "cell_type": "code",
   "execution_count": 79,
   "metadata": {},
   "outputs": [],
   "source": [
    "# Concatinating the dfs\n",
    "final = pd.concat([onehot_df,numerical_df],axis=1)\n",
    "tst_final = pd.concat([tst_onehot_df,tst_numerical_df],axis=1)\n",
    "final = final.drop(['title_Credit Card Consolidation'],axis=1)"
   ]
  },
  {
   "cell_type": "code",
   "execution_count": 80,
   "metadata": {},
   "outputs": [],
   "source": [
    "#performing label encoding on the dfs label_enc\n",
    "for i in label_enc.columns:\n",
    "  label_enc[i] = pd.factorize(label_enc[i])[0]\n",
    "\n",
    "for i in tst_label_enc.columns:\n",
    "  tst_label_enc[i] = pd.factorize(tst_label_enc[i])[0]"
   ]
  },
  {
   "cell_type": "code",
   "execution_count": 81,
   "metadata": {},
   "outputs": [],
   "source": [
    "final_data = pd.concat([final,label_enc],axis=1)\n",
    "tst_final_data = pd.concat([tst_final,tst_label_enc],axis=1)"
   ]
  },
  {
   "cell_type": "code",
   "execution_count": 82,
   "metadata": {},
   "outputs": [],
   "source": [
    "from sklearn.preprocessing import normalize\n",
    "x = normalize(final_data)\n",
    "y = normalize(tst_final_data)"
   ]
  },
  {
   "cell_type": "code",
   "execution_count": 83,
   "metadata": {},
   "outputs": [
    {
     "name": "stdout",
     "output_type": "stream",
     "text": [
      "saving data to S3\n"
     ]
    }
   ],
   "source": [
    "print(\"saving data to S3\")"
   ]
  },
  {
   "cell_type": "code",
   "execution_count": 84,
   "metadata": {},
   "outputs": [],
   "source": [
    "final_data.to_csv('unsupervised_final_data.csv',index=False)"
   ]
  },
  {
   "cell_type": "code",
   "execution_count": 85,
   "metadata": {},
   "outputs": [],
   "source": [
    "tst_final_data.to_csv('unsupervised_tst_final_data.csv',index=False)"
   ]
  },
  {
   "cell_type": "code",
   "execution_count": 86,
   "metadata": {},
   "outputs": [],
   "source": [
    "target.to_csv('unsupervised_target.csv',index=False)"
   ]
  },
  {
   "cell_type": "code",
   "execution_count": null,
   "metadata": {},
   "outputs": [],
   "source": []
  },
  {
   "cell_type": "code",
   "execution_count": 87,
   "metadata": {},
   "outputs": [
    {
     "name": "stdout",
     "output_type": "stream",
     "text": [
      "unsupervised data saved successfully\n"
     ]
    }
   ],
   "source": [
    "print(\"unsupervised data saved successfully\")"
   ]
  },
  {
   "cell_type": "code",
   "execution_count": null,
   "metadata": {},
   "outputs": [],
   "source": []
  },
  {
   "cell_type": "code",
   "execution_count": null,
   "metadata": {},
   "outputs": [],
   "source": []
  }
 ],
 "metadata": {
  "kernelspec": {
   "display_name": "Python 3",
   "language": "python",
   "name": "python3"
  },
  "language_info": {
   "codemirror_mode": {
    "name": "ipython",
    "version": 3
   },
   "file_extension": ".py",
   "mimetype": "text/x-python",
   "name": "python",
   "nbconvert_exporter": "python",
   "pygments_lexer": "ipython3",
   "version": "3.8.3"
  }
 },
 "nbformat": 4,
 "nbformat_minor": 4
}
